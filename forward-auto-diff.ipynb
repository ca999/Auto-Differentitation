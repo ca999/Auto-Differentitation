{
 "cells": [
  {
   "cell_type": "code",
   "execution_count": 6,
   "id": "initial_id",
   "metadata": {
    "collapsed": true,
    "ExecuteTime": {
     "end_time": "2025-06-26T17:31:43.780601Z",
     "start_time": "2025-06-26T17:31:43.771193Z"
    }
   },
   "outputs": [],
   "source": [
    "from dualnumber import DualNumber"
   ]
  },
  {
   "cell_type": "code",
   "outputs": [],
   "source": [
    "def derivative(fx, x):\n",
    "    return fx(DualNumber(x, 1)).dual"
   ],
   "metadata": {
    "collapsed": false,
    "ExecuteTime": {
     "end_time": "2025-06-26T17:31:45.820736Z",
     "start_time": "2025-06-26T17:31:45.812818Z"
    }
   },
   "id": "de1e3683a4b683ae",
   "execution_count": 7
  },
  {
   "cell_type": "code",
   "outputs": [],
   "source": [
    "fx = lambda x: x*x"
   ],
   "metadata": {
    "collapsed": false,
    "ExecuteTime": {
     "end_time": "2025-06-26T17:31:46.285035Z",
     "start_time": "2025-06-26T17:31:46.282759Z"
    }
   },
   "id": "a7a17decb4e59f4a",
   "execution_count": 8
  },
  {
   "cell_type": "code",
   "outputs": [
    {
     "name": "stdout",
     "output_type": "stream",
     "text": [
      "6.0000000000\n"
     ]
    }
   ],
   "source": [
    "print(\"{:.10f}\".format(derivative(fx, 3)))"
   ],
   "metadata": {
    "collapsed": false,
    "ExecuteTime": {
     "end_time": "2025-06-26T17:31:46.730898Z",
     "start_time": "2025-06-26T17:31:46.725646Z"
    }
   },
   "id": "f2bbf7798b5a6a6e",
   "execution_count": 9
  },
  {
   "cell_type": "code",
   "outputs": [],
   "source": [],
   "metadata": {
    "collapsed": false
   },
   "id": "d2de56602df67dd6"
  }
 ],
 "metadata": {
  "kernelspec": {
   "display_name": "Python 3",
   "language": "python",
   "name": "python3"
  },
  "language_info": {
   "codemirror_mode": {
    "name": "ipython",
    "version": 2
   },
   "file_extension": ".py",
   "mimetype": "text/x-python",
   "name": "python",
   "nbconvert_exporter": "python",
   "pygments_lexer": "ipython2",
   "version": "2.7.6"
  }
 },
 "nbformat": 4,
 "nbformat_minor": 5
}
